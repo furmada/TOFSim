{
 "cells": [
  {
   "cell_type": "markdown",
   "id": "coordinated-fields",
   "metadata": {},
   "source": [
    "## Experiment 2: Ion Barrier Switching Mode\n",
    "This experiment determines how the particle beam behaves as the ion barrier goes from active to inactive."
   ]
  },
  {
   "cell_type": "code",
   "execution_count": null,
   "id": "developing-despite",
   "metadata": {},
   "outputs": [],
   "source": [
    "%matplotlib notebook\n",
    "%load_ext autoreload\n",
    "%autoreload 2\n",
    "import libem\n",
    "import numpy as np\n",
    "from libvis import Visualizations, VideoMaker\n",
    "import matplotlib.pyplot as plt\n",
    "\n",
    "from components import *\n",
    "\n",
    "from scipy.optimize import root_scalar"
   ]
  },
  {
   "cell_type": "markdown",
   "id": "sapphire-retail",
   "metadata": {},
   "source": [
    "**General Configuration**"
   ]
  },
  {
   "cell_type": "code",
   "execution_count": null,
   "id": "comparative-business",
   "metadata": {},
   "outputs": [],
   "source": [
    "def generate_barrier_space(V_out=1, V_in=-1, grate_dist=0.5, grate_sp=0.2, th=0.05, scale=30):\n",
    "    sim = libem.EMSimulationSpace3D(space_size=(4, 2, 2), top_left=(-2, -1, -1), scale=scale)\n",
    "    sim.compute(make_enforcer(\n",
    "        enf(EMObjects.planar_mesh_3d, (grate_dist, -0.8, -0.8), 0, (0.1, 1.6, 1.6), (grate_sp, grate_sp), th, V_out),\n",
    "        enf(EMObjects.planar_mesh_3d, (0, -0.8, -0.8), 0, (0.1, 1.6, 1.6), (grate_sp, grate_sp), th, V_in),\n",
    "        enf(EMObjects.planar_mesh_3d, (-grate_dist, -0.8, -0.8), 0, (0.1, 1.6, 1.6), (grate_sp, grate_sp), th, V_out),\n",
    "    ))\n",
    "    sim.get_efield()\n",
    "    return sim\n",
    "\n",
    "NPARTICLES = 20\n",
    "THICKNESS = 0.05\n",
    "DISTANCE = 0.4\n",
    "SPACING = 0.5\n",
    "SCALE = 20\n",
    "\n",
    "particle_opts = {\n",
    "    \"mass\": (1, 0.25),\n",
    "    \"charge\": (1, 0.25),\n",
    "    \"initial_loc\": ((1.9, 0, 0), (0, 0, 0)),\n",
    "    \"initial_v\": ((-1, 0, 0), (0.2, 0.1, 0.1)),\n",
    "    \"bounce_coef\": 0\n",
    "}"
   ]
  },
  {
   "cell_type": "markdown",
   "id": "meaningful-blood",
   "metadata": {},
   "source": [
    "**Simulate Particle Beam**"
   ]
  },
  {
   "cell_type": "code",
   "execution_count": null,
   "id": "engaged-lobby",
   "metadata": {
    "scrolled": false
   },
   "outputs": [],
   "source": [
    "particles = libem.ChargedParticle3D.generate_particles(NPARTICLES, None,\n",
    "                                                       particle_opts[\"mass\"][0],\n",
    "                                                       particle_opts[\"charge\"][0],\n",
    "                                                       particle_opts[\"initial_loc\"][0],\n",
    "                                                       particle_opts[\"initial_v\"][0],\n",
    "                                                       particle_opts[\"mass\"][1],\n",
    "                                                       particle_opts[\"charge\"][1],\n",
    "                                                       particle_opts[\"initial_loc\"][1],\n",
    "                                                       particle_opts[\"initial_v\"][1],\n",
    "                                                       particle_opts[\"bounce_coef\"])\n",
    "particles = [p for p in particles if p.charge > 0]\n",
    "\n",
    "max_qke = max([abs(p.charge) for p in particles]) * 0.5 * max([p.mass for p in particles]) * \\\n",
    "            (max([np.linalg.norm(p.initial_velocity) for p in particles]))**2\n",
    "\n",
    "voltage_range = np.arange(0, 1.1 * max_qke, max_qke / 30)[::-1]\n",
    "passthrough = np.zeros(voltage_range.shape)\n",
    "coherence = np.zeros(voltage_range.shape)\n",
    "\n",
    "fig, axes = plt.subplots(3, 1, figsize=(12, 12))\n",
    "plt.show()\n",
    "video = VideoMaker(fig, axes)\n",
    "\n",
    "print(\"Computing\")\n",
    "\n",
    "for i, voltage in enumerate(voltage_range):\n",
    "    sim = generate_barrier_space(0, voltage, DISTANCE, SPACING, THICKNESS, SCALE)\n",
    "    \n",
    "    passed = []\n",
    "    passed_v = []\n",
    "    for j, p in enumerate(particles):\n",
    "        p.sim = sim\n",
    "        p.compute_motion((0, (p.initial_location[0] + 1.5) / abs(p.initial_velocity[0])))\n",
    "        if p.position[0][-1] < -DISTANCE:\n",
    "            passed.append(p.position[:,-1])\n",
    "            passed_v.append(p.velocity[:,-1])\n",
    "        print(\"\\rVoltage \" + str(round(voltage, 2)) + \", Particle \" + str(j+1).rjust(3), end=\"\")\n",
    "            \n",
    "    if len(passed) > 0:\n",
    "        passed = np.array(passed)\n",
    "        passed_v = np.array(passed_v)\n",
    "        passthrough[i] = passed.shape[0] / NPARTICLES\n",
    "        extrapolate_times = (passed[:,0] + 30.0) / np.abs(passed_v[:,0])\n",
    "        extrapolated_locs = np.array(\n",
    "            [(extrapolate_times[i] * passed_v[i,1:]) +  passed[i,1:] for i in range(passed.shape[0])])\n",
    "        coherence[i] = np.average(np.linalg.norm(extrapolated_locs, axis=1))\n",
    "    \n",
    "    video.new_frame()\n",
    "        \n",
    "    axes[0].set_xlabel(\"X\")\n",
    "    axes[0].set_ylabel(\"Z\")\n",
    "    if voltage != 0:\n",
    "        sim2d = libem.EMSimulationSpace2D.from_3d(sim, axis=1)\n",
    "        Visualizations.colormesh_2d(sim2d, color_norm=voltage, graph_ax=axes[0])\n",
    "    for p in particles:\n",
    "        Visualizations.trajectory_2d(p.time, p.position, axis=1, graph_ax=axes[0])\n",
    "    axes[0].set_xlim((-2, 2))\n",
    "    axes[0].set_ylim((-1, 1))\n",
    "        \n",
    "    axes[1].set_xlabel(\"Voltage\")\n",
    "    axes[1].set_ylabel(\"Passthrough Fraction\")\n",
    "    axes[1].set_xlim((voltage_range[0], voltage_range[-1]))\n",
    "    axes[1].set_ylim((0, 1))\n",
    "    axes[1].plot(np.array(voltage_range[:i+1]), np.array(passthrough[:i+1]), color=\"m\")\n",
    "    \n",
    "    axes[2].set_xlabel(\"Voltage\")\n",
    "    axes[2].set_ylabel(\"Coherence Distance\")\n",
    "    axes[2].set_xlim((voltage_range[0], voltage_range[-1]))\n",
    "    axes[2].set_ylim((0, max(max(coherence[:i+1]), 1) * 1.1))\n",
    "    axes[2].plot(np.array(voltage_range[:i+1]), np.array(coherence[:i+1]), color=\"g\")\n",
    "        \n",
    "    video.draw_frame()\n",
    "    \n",
    "video.make_movie(\"beam_passthrough.mp4\")"
   ]
  },
  {
   "cell_type": "code",
   "execution_count": null,
   "id": "typical-concrete",
   "metadata": {},
   "outputs": [],
   "source": []
  }
 ],
 "metadata": {
  "kernelspec": {
   "display_name": "Python 3",
   "language": "python",
   "name": "python3"
  },
  "language_info": {
   "codemirror_mode": {
    "name": "ipython",
    "version": 3
   },
   "file_extension": ".py",
   "mimetype": "text/x-python",
   "name": "python",
   "nbconvert_exporter": "python",
   "pygments_lexer": "ipython3",
   "version": "3.9.5"
  }
 },
 "nbformat": 4,
 "nbformat_minor": 5
}
