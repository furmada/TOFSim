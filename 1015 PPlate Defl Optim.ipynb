{
 "cells": [
  {
   "cell_type": "code",
   "execution_count": 1,
   "source": [
    "%load_ext autoreload\r\n",
    "%autoreload 2\r\n",
    "%matplotlib ipympl"
   ],
   "outputs": [],
   "metadata": {}
  },
  {
   "cell_type": "code",
   "execution_count": 2,
   "source": [
    "# Setup output and imports\r\n",
    "from tslib import ts_import, ts_output, ts_log, ts_csvout\r\n",
    "PROG = \"pplate-defl-optim\"   # This experiment's ID\r\n",
    "OUT_D = ts_output(PROG)      # Output file directory\r\n",
    "\r\n",
    "# import relevant libraries\r\n",
    "import numpy as np\r\n",
    "import matplotlib.pyplot as plt\r\n",
    "plt.ion()\r\n",
    "\r\n",
    "from scipy.optimize import minimize, root_scalar\r\n",
    "\r\n",
    "libem = ts_import(\"libem\", \"20211006\")\r\n",
    "cmp = ts_import(\"components\", \"20211006\")\r\n",
    "rlm = ts_import(\"realmodel\", \"latest\")\r\n",
    "libvis = ts_import(\"libvis\", \"latest\")"
   ],
   "outputs": [
    {
     "output_type": "stream",
     "name": "stdout",
     "text": [
      "Results directory already exists: results\\pplate-defl-optim20211018\n",
      "tslib.realmodel_20211004\n",
      "tslib.libvis_20211018\n"
     ]
    }
   ],
   "metadata": {}
  },
  {
   "cell_type": "markdown",
   "source": [
    "## Set up dimensions and conversions"
   ],
   "metadata": {}
  },
  {
   "cell_type": "code",
   "execution_count": 3,
   "source": [
    "conv = rlm.Conversion(\r\n",
    "    mass=1, # kg (1amu) / sim unit\r\n",
    "    length=1, #1cm / sim unit\r\n",
    "    time=1,\r\n",
    "    charge=1,\r\n",
    "    voltage=1\r\n",
    ")\r\n",
    "\r\n",
    "# Goal for deflection voltage is 10V for 200eV ions\r\n",
    "\r\n",
    "DFDIM = {\r\n",
    "    \"length\": conv.real_to_sim(3, \"length\"), # ideal is 3cm\r\n",
    "    \"box\": conv.real_to_sim(2, \"length\"),\r\n",
    "    \"diam\": conv.real_to_sim(1, \"length\"),\r\n",
    "    \"boxwall\": conv.real_to_sim(0.2, \"length\"),\r\n",
    "\r\n",
    "    \"panel_l\": conv.real_to_sim(1, \"length\"),\r\n",
    "    \"panel_w\": conv.real_to_sim(1.6, \"length\"),\r\n",
    "    \"panel_h\": conv.real_to_sim(0.2, \"length\"),\r\n",
    "    \"panel_gap\": conv.real_to_sim(1.1, \"length\")\r\n",
    "}\r\n",
    "\r\n",
    "set_panel_sheight = lambda h: h - (DFDIM[\"box\"] / 2.0)\r\n",
    "\r\n",
    "SPACE_SIZE = [round(DFDIM[\"length\"] * 1.5), round(DFDIM[\"box\"] * 1.5), round(DFDIM[\"box\"] * 1.5)]\r\n",
    "SPACE_TLFT = [-(s / 2.0) for s in SPACE_SIZE]\r\n",
    "\r\n",
    "SCALE = 20\r\n",
    "\r\n",
    "ts_log(PROG, \"SIMULATION SPACE SIZE:\", \", \".join([str(s) for s in SPACE_SIZE]))\r\n",
    "ts_log(PROG, \"SIMULATION SPACE TOP_LEFT:\", \", \".join([str(tl) for tl in SPACE_TLFT]))\r\n",
    "ts_log(PROG, \"SIMULATION SCALE SET AT:\", SCALE)\r\n"
   ],
   "outputs": [
    {
     "output_type": "stream",
     "name": "stdout",
     "text": [
      "SIMULATION SPACE SIZE: 4, 3, 3\n",
      "SIMULATION SPACE TOP_LEFT: -2.0, -1.5, -1.5\n",
      "SIMULATION SCALE SET AT: 20\n"
     ]
    }
   ],
   "metadata": {}
  },
  {
   "cell_type": "markdown",
   "source": [
    "## Gate generator"
   ],
   "metadata": {}
  },
  {
   "cell_type": "code",
   "execution_count": 4,
   "source": [
    "def generate_dfgate(panel_pos, panel_dim, body_V, hole_V, electrode_V):\r\n",
    "    # Create simulation space from global parameters\r\n",
    "    sim = libem.EMSimulationSpace3D(space_size=SPACE_SIZE, top_left=SPACE_TLFT, scale=SCALE)\r\n",
    "\r\n",
    "    # CREATE GATE COMPONENTS\r\n",
    "    # Body - Hollow Rectangular Prism\r\n",
    "    body = (\r\n",
    "        (-(DFDIM[\"length\"] / 2.0), -(DFDIM[\"box\"] / 2.0), -(DFDIM[\"box\"] / 2.0)),\r\n",
    "        (DFDIM[\"length\"], DFDIM[\"box\"], DFDIM[\"box\"]),\r\n",
    "        DFDIM[\"boxwall\"],\r\n",
    "        body_V\r\n",
    "    )\r\n",
    "    # End Holes - Closed Cylinders\r\n",
    "    ehole_0_mask = cmp.EMObjectMasks.closed_cylinder_in_plane(\r\n",
    "        sim,\r\n",
    "        (-(DFDIM[\"length\"] / 2.0), 0, 0),\r\n",
    "        DFDIM[\"diam\"] / 2.0,\r\n",
    "        DFDIM[\"boxwall\"],\r\n",
    "        0\r\n",
    "    )\r\n",
    "    ehole_1_mask = cmp.EMObjectMasks.closed_cylinder_in_plane(\r\n",
    "        sim,\r\n",
    "        ((DFDIM[\"length\"] / 2.0), 0, 0),\r\n",
    "        DFDIM[\"diam\"] / 2.0,\r\n",
    "        DFDIM[\"boxwall\"],\r\n",
    "        0,\r\n",
    "        direction=-1\r\n",
    "    )\r\n",
    "    # Deflection Panel - Rectangular Prism\r\n",
    "    top_panel = (\r\n",
    "        (*panel_pos[:2], panel_pos[2] + DFDIM[\"panel_gap\"]),\r\n",
    "        panel_dim,\r\n",
    "        -electrode_V\r\n",
    "    )\r\n",
    "    bottom_panel = (\r\n",
    "        panel_pos,\r\n",
    "        panel_dim,\r\n",
    "        electrode_V\r\n",
    "    )\r\n",
    "\r\n",
    "    # Generate boundary enforcer\r\n",
    "    enf = [\r\n",
    "        cmp.enf(+1, cmp.EMObjects.rectangular_prism_hollow, *body),\r\n",
    "        cmp.enf(-1, cmp.EMObjects.arbitrary_mask, ehole_0_mask, hole_V),\r\n",
    "        cmp.enf(-1, cmp.EMObjects.arbitrary_mask, ehole_1_mask, hole_V),\r\n",
    "        cmp.enf(+1, cmp.EMObjects.rectangular_prism_solid, *top_panel),\r\n",
    "        cmp.enf(+1, cmp.EMObjects.rectangular_prism_solid, *bottom_panel)\r\n",
    "    ]\r\n",
    "\r\n",
    "    return sim, enf\r\n"
   ],
   "outputs": [],
   "metadata": {}
  },
  {
   "cell_type": "markdown",
   "source": [
    "## Visualize Particle Path"
   ],
   "metadata": {}
  },
  {
   "cell_type": "code",
   "execution_count": 5,
   "source": [
    "PARTICLE_OPTS = {\r\n",
    "    \"mass\": (conv.real_to_sim(1, \"mass\"), 0),\r\n",
    "    \"charge\": (conv.real_to_sim(1, \"charge\"), 0),\r\n",
    "    \"initial_loc\": ((conv.real_to_sim(-1.4, \"length\"), 0, 0), (0, 0, 0)),\r\n",
    "    \"initial_v\": ((conv.real_to_sim(1, \"length / time\"), 0, 0), (0, 0, 0)),\r\n",
    "    \"bounce_coef\": 1\r\n",
    "}\r\n",
    "\r\n",
    "def visualize_dfgate_particle(particle_opts, panel_pos, body_V, hole_V, electrode_V):\r\n",
    "    V_norm = max(abs(electrode_V), abs(hole_V), abs(body_V), 0.1)\r\n",
    "\r\n",
    "    print(\"Visualizing the deflection gate with particle path.\")\r\n",
    "    sim, enf = generate_dfgate(\r\n",
    "        panel_pos,\r\n",
    "        (DFDIM[\"panel_l\"], DFDIM[\"panel_w\"], DFDIM[\"panel_h\"]),\r\n",
    "        body_V, hole_V, electrode_V)\r\n",
    "    print(\" - Computing electric field\")\r\n",
    "    sim.compute(enf)\r\n",
    "    sim.get_efield()\r\n",
    "    print(\" - Computing particle motion\")\r\n",
    "    particle = libem.ChargedParticle3D(sim, particle_opts[\"mass\"][0], particle_opts[\"charge\"][0],\r\n",
    "                                       (particle_opts[\"initial_loc\"][0][0], 0, 0),\r\n",
    "                                       particle_opts[\"initial_v\"][0], bounce=particle_opts[\"bounce_coef\"])\r\n",
    "    particle.compute_motion((0, (DFDIM[\"length\"] * 1.5) / particle_opts[\"initial_v\"][0][0]))\r\n",
    "    print(\" - Rendering 2D Electric Field Cross-Sections at 0 with Motion\")\r\n",
    "\r\n",
    "\r\n",
    "    \r\n",
    "    _, axs = plt.subplots(1, 3, figsize=(15, 4))\r\n",
    "    labels = [\"x\", \"y\", \"z\"]\r\n",
    "    for i, ax in enumerate(axs):\r\n",
    "        sub_label = labels[:]\r\n",
    "        sub_label.pop(i)\r\n",
    "        ax.set_xlabel(sub_label[0])\r\n",
    "        ax.set_ylabel(sub_label[1])\r\n",
    "\r\n",
    "        sim2d = libem.EMSimulationSpace2D.from_3d(sim, axis=i, location=0)\r\n",
    "        libvis.Visualizations.colormesh_2d(sim2d, color_norm=V_norm, graph_ax=ax)\r\n",
    "        libvis.Visualizations.trajectory_2d(particle.time, particle.position, axis=i, graph_ax=ax)\r\n",
    "\r\n",
    "    # Save the simulation results\r\n",
    "    # Columns: MASS, CHARGE, X_0, Vx_0, Vy_0, Vz_0, BOUNCE, X_1, Y_1, Z_1\r\n",
    "    ts_csvout(PROG, \"particle_paths.csv\",\r\n",
    "        [particle_opts[\"mass\"][0], particle_opts[\"charge\"][0], particle_opts[\"initial_loc\"][0][0], *particle_opts[\"initial_v\"][0],\r\n",
    "        particle_opts[\"bounce_coef\"], *particle.position.T[-1]]\r\n",
    "    )\r\n",
    "    # Save image\r\n",
    "    plt.savefig(OUT_D + \"/ppath.png\")\r\n",
    "    # Log\r\n",
    "    ts_log(PROG, \"Particle path experiment ran.\")\r\n",
    "\r\n",
    "\r\n",
    "visualize_dfgate_particle(\r\n",
    "    PARTICLE_OPTS,\r\n",
    "    (-(DFDIM[\"panel_l\"] / 2.0), -(DFDIM[\"panel_w\"] / 2.0), (set_panel_sheight(0.4))),\r\n",
    "    0, 0, -0.15\r\n",
    ")\r\n"
   ],
   "outputs": [
    {
     "output_type": "stream",
     "name": "stdout",
     "text": [
      "Visualizing the deflection gate with particle path.\n",
      " - Computing electric field\n",
      " - Computing particle motion\n",
      " - Rendering 2D Electric Field Cross-Sections at 0 with Motion\n",
      "Particle path experiment ran.\n"
     ]
    },
    {
     "output_type": "display_data",
     "data": {
      "application/vnd.jupyter.widget-view+json": {
       "version_major": 2,
       "version_minor": 0,
       "model_id": "c43ca71346b24ac6b3db8804ff0d675e"
      },
      "image/png": "[encoded data removed]",
      "text/plain": [
       "Canvas(toolbar=Toolbar(toolitems=[('Home', 'Reset original view', 'home', 'home'), ('Back', 'Back to previous …"
      ]
     },
     "metadata": {}
    }
   ],
   "metadata": {}
  },
  {
   "cell_type": "code",
   "execution_count": 7,
   "source": [
    "def minimize_defl_V(particle_opts, panel_l=(0.1, 2.8), panel_g=(1, 1.5), visualize=False):\r\n",
    "    fig, axs = plt.subplots(1, 3, figsize=(15, 4))\r\n",
    "    video = libvis.VideoMaker(fig, axs)\r\n",
    "\r\n",
    "    qKe = particle_opts[\"charge\"][0] * (particle_opts[\"mass\"][0] / 2.0) * (particle_opts[\"initial_v\"][0][0]**2)\r\n",
    "\r\n",
    "    ts_csvout(\r\n",
    "        PROG,\r\n",
    "        \"minimize_v.csv\",\r\n",
    "        [\"PARTICLE_QKE\", \"PLATE_L\", \"PLATE_GAP\", \"PLATE_V\", \"SUCCESS_METRIC\"],\r\n",
    "        append=False\r\n",
    "    )\r\n",
    "\r\n",
    "    def stop_fn(V, l, g):\r\n",
    "        # Returns a negative value if stopped \"too soon\", or a positive one if the particle escapes.\r\n",
    "        sim, enf = generate_dfgate(\r\n",
    "            (-(DFDIM[\"length\"] / 2.0) + DFDIM[\"boxwall\"], -(DFDIM[\"box\"] / 2.0) + DFDIM[\"boxwall\"], -(g / 2.0)),\r\n",
    "            (l, DFDIM[\"panel_w\"] - (2 * DFDIM[\"boxwall\"]), DFDIM[\"panel_h\"]),\r\n",
    "            0, 0, V)\r\n",
    "\r\n",
    "        sim.compute(enf)\r\n",
    "        sim.get_efield()\r\n",
    "\r\n",
    "        particle = libem.ChargedParticle3D(sim, particle_opts[\"mass\"][0], particle_opts[\"charge\"][0],\r\n",
    "                                        (particle_opts[\"initial_loc\"][0][0], 0, 0),\r\n",
    "                                        particle_opts[\"initial_v\"][0], bounce=particle_opts[\"bounce_coef\"])\r\n",
    "        particle.compute_motion((0, (DFDIM[\"length\"] * 1.5) / particle_opts[\"initial_v\"][0][0]))\r\n",
    "\r\n",
    "        if visualize:\r\n",
    "            video.new_frame()\r\n",
    "\r\n",
    "            labels = [\"x\", \"y\", \"z\"]\r\n",
    "            for i, ax in enumerate(axs):\r\n",
    "                sub_label = labels[:]\r\n",
    "                sub_label.pop(i)\r\n",
    "                ax.set_xlabel(sub_label[0])\r\n",
    "                ax.set_ylabel(sub_label[1])\r\n",
    "\r\n",
    "                sim2d = libem.EMSimulationSpace2D.from_3d(sim, axis=i, location=0)\r\n",
    "                libvis.Visualizations.colormesh_2d(sim2d, color_norm=qKe, graph_ax=ax)\r\n",
    "                libvis.Visualizations.trajectory_2d(particle.time, particle.position, axis=i, graph_ax=ax)\r\n",
    "\r\n",
    "            video.draw_frame()\r\n",
    "\r\n",
    "        metric = 0\r\n",
    "        if particle.position[0,-1] > DFDIM[\"length\"] / 2.0:\r\n",
    "            metric = particle.position[0,-1] - (DFDIM[\"length\"] / 2.0)\r\n",
    "        else:\r\n",
    "            metric = -1 * (np.max(particle.position[1]**2) + np.max(particle.position[2]**2)) * particle.num_bounces\r\n",
    "        \r\n",
    "        ts_csvout(PROG, \r\n",
    "            \"minimize_v.csv\",\r\n",
    "            [qKe, l, g, V, metric],\r\n",
    "            append=True\r\n",
    "        )\r\n",
    "\r\n",
    "        print(\"  \", round(V, 3), \"->\", round(metric, 2))\r\n",
    "        return metric\r\n",
    "\r\n",
    "    def min_stop_V(x):  \r\n",
    "        #Find minimum V that still stops the particle\r\n",
    "        print(\"Parameters:\", round(x[0], 3), round(x[1], 3))\r\n",
    "        minv_sol = root_scalar(\r\n",
    "            stop_fn,\r\n",
    "            args=(x[0], x[1]),\r\n",
    "            method=\"ridder\",\r\n",
    "            bracket=(0, qKe),\r\n",
    "            x0=qKe / np.mean(x),\r\n",
    "            xtol=qKe / 10\r\n",
    "        )\r\n",
    "        print(\"=> Minimum V found: \", round(minv_sol.root, 3))\r\n",
    "        return minv_sol.root\r\n",
    "\r\n",
    "    opt_res = minimize(\r\n",
    "        min_stop_V,\r\n",
    "        method=\"SLSQP\",\r\n",
    "        options={\"eps\": conv.real_to_sim(0.25, \"length\")},\r\n",
    "        tol=(panel_l[1] + panel_g[1]) / 20.0,\r\n",
    "        x0=(DFDIM[\"length\"] / 2.0, DFDIM[\"diam\"]),\r\n",
    "        bounds=(panel_l, panel_g)\r\n",
    "    )\r\n",
    "    \r\n",
    "    min_v = min_stop_V(opt_res.x)\r\n",
    "\r\n",
    "    print(\"Optimal result achieved.\")\r\n",
    "    print(\"Length:\", opt_res.x[0], \"Gap:\", opt_res.x[1])\r\n",
    "    print(\" => Voltage:\", min_v)\r\n",
    "\r\n",
    "    if visualize: video.make_movie(OUT_D + \"/minimize.mp4\")\r\n",
    "\r\n",
    "    return opt_res.x[0], opt_res.x[1], min_v\r\n",
    "\r\n",
    "minimize_defl_V(\r\n",
    "    PARTICLE_OPTS,\r\n",
    "    (conv.real_to_sim(0.1, \"length\"), DFDIM[\"length\"] - (2 * DFDIM[\"boxwall\"])),\r\n",
    "    (conv.real_to_sim(0.1, \"length\"), DFDIM[\"box\"] - (2 * DFDIM[\"boxwall\"]))\r\n",
    ")"
   ],
   "outputs": [
    {
     "output_type": "stream",
     "name": "stdout",
     "text": [
      "Parameters: 1.5 1.0\n",
      "   0.0 -> 1.6\n",
      "   0.5 -> -0.83\n",
      "   0.25 -> -1.09\n",
      "   0.078 -> 1.49\n",
      "   0.164 -> -1.13\n",
      "   0.107 -> -0.98\n",
      "=> Minimum V found:  0.107\n",
      "Parameters: 1.75 1.0\n",
      "   0.0 -> 1.6\n",
      "   0.5 -> -0.83\n",
      "   0.25 -> -0.58\n",
      "   0.138 -> -1.13\n",
      "   0.069 -> 1.5\n",
      "   0.113 -> -1.63\n",
      "=> Minimum V found:  0.113\n",
      "Parameters: 1.5 1.25\n",
      "   0.0 -> 1.6\n",
      "   0.5 -> -0.56\n",
      "   0.25 -> -0.39\n",
      "   0.155 -> -1.13\n",
      "   0.077 -> 1.52\n",
      "   0.13 -> -1.25\n",
      "   0.103 -> -0.77\n",
      "   0.102 -> -0.75\n",
      "=> Minimum V found:  0.102\n",
      "Parameters: 1.5 1.0\n",
      "   0.0 -> 1.6\n",
      "   0.5 -> -0.83\n",
      "   0.25 -> -1.09\n",
      "   0.078 -> 1.49\n",
      "   0.164 -> -1.13\n",
      "   0.107 -> -0.98\n",
      "=> Minimum V found:  0.107\n",
      "Optimal result achieved.\n",
      "Length: 1.5 Gap: 1.0\n",
      " => Voltage: 0.10696066196920151\n"
     ]
    },
    {
     "output_type": "execute_result",
     "data": {
      "text/plain": [
       "(1.5, 1.0, 0.10696066196920151)"
      ]
     },
     "metadata": {},
     "execution_count": 7
    },
    {
     "output_type": "display_data",
     "data": {
      "application/vnd.jupyter.widget-view+json": {
       "version_major": 2,
       "version_minor": 0,
       "model_id": "a7b2111f8c74444199696efc6d4972b7"
      },
      "image/png": "[encoded data removed]",
      "text/plain": [
       "Canvas(toolbar=Toolbar(toolitems=[('Home', 'Reset original view', 'home', 'home'), ('Back', 'Back to previous …"
      ]
     },
     "metadata": {}
    }
   ],
   "metadata": {}
  },
  {
   "cell_type": "code",
   "execution_count": null,
   "source": [],
   "outputs": [],
   "metadata": {}
  }
 ],
 "metadata": {
  "orig_nbformat": 4,
  "language_info": {
   "name": "python",
   "version": "3.9.5",
   "mimetype": "text/x-python",
   "codemirror_mode": {
    "name": "ipython",
    "version": 3
   },
   "pygments_lexer": "ipython3",
   "nbconvert_exporter": "python",
   "file_extension": ".py"
  },
  "kernelspec": {
   "name": "python3",
   "display_name": "Python 3.9.5 64-bit"
  },
  "interpreter": {
   "hash": "1677a3bca3b66a6fe06c2fcccb2bd2d81d238c4870c563527bfb96e5d331d4f0"
  }
 },
 "nbformat": 4,
 "nbformat_minor": 2
}